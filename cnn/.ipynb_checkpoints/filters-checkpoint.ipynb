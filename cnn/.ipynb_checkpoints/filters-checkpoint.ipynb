{
 "cells": [
  {
   "cell_type": "code",
   "execution_count": 24,
   "metadata": {},
   "outputs": [],
   "source": [
    "#Import files\n",
    "import numpy as np\n",
    "import h5py\n",
    "import sys\n",
    "sys.path.append('../')\n",
    "from Bio import SeqIO\n",
    "import csv\n",
    "import pandas as pd\n",
    "import random\n",
    "from sklearn import metrics\n",
    "import matplotlib.pyplot as plt\n",
    "import pickle\n",
    "import pdb\n",
    "import gzip\n",
    "import time\n",
    "from sklearn import metrics\n",
    "from sklearn.metrics import roc_auc_score\n",
    "    \n",
    "# ENcoding\n",
    "from numpy import array\n",
    "from numpy import argmax\n",
    "from sklearn.preprocessing import LabelEncoder\n",
    "from sklearn.preprocessing import OneHotEncoder\n",
    "from sklearn.model_selection import train_test_split\n",
    "\n",
    "# Model \n",
    "import os\n",
    "os.environ['TF_CPP_MIN_LOG_LEVEL']='2'\n",
    "import tensorflow as tf\n",
    "from keras.models import Sequential, model_from_config\n",
    "from keras.layers.core import Dense, Dropout, Activation, Flatten\n",
    "from keras.layers import Input, merge, LSTM, Merge\n",
    "from keras.models import Model # basic class for specifying and training a neural network\n",
    "from keras.layers import Input, Conv2D, MaxPooling2D, Dense, Dropout, Activation, Flatten, BatchNormalization\n",
    "from keras.utils import np_utils # utilities for one-hot encoding of ground truth values\n",
    "from keras.models import Sequential\n",
    "from keras.layers import Dense\n",
    "from keras.optimizers import SGD, RMSprop, Adadelta, Adagrad, Adam\n",
    "from keras.layers import normalization\n",
    "from keras.layers.convolutional import Conv1D,Convolution2D, MaxPooling2D\n",
    "from keras.layers import LSTM, Bidirectional, concatenate\n",
    "from keras.layers.embeddings import Embedding\n",
    "from keras.layers.convolutional import Convolution2D, MaxPooling2D,Convolution1D, MaxPooling1D\n",
    "from keras import regularizers\n",
    "from keras.callbacks import ModelCheckpoint, EarlyStopping\n",
    "\n",
    "from keras.utils.vis_utils import plot_model\n",
    "from keras.callbacks import History \n",
    "from keras.callbacks import TensorBoard\n",
    "\n",
    "from keras.models import load_model\n",
    "\n",
    "import os \n",
    "\n",
    "def read_seq(seq_file):\n",
    "    seq_list = []\n",
    "    seq = ''\n",
    "    with open(seq_file, 'r') as fp:\n",
    "        for line in fp:\n",
    "            if line[0] == '>':\n",
    "                name = line[1:-1]\n",
    "                if len(seq):\n",
    "                    seq_array = get_RNA_seq_concolutional_array(seq)\n",
    "                    seq_list.append(seq_array)                    \n",
    "                seq = ''\n",
    "            else:\n",
    "                seq = seq + line[:-1]\n",
    "        if len(seq):\n",
    "            seq_array = get_RNA_seq_concolutional_array(seq)\n",
    "            seq_list.append(seq_array) \n",
    "    \n",
    "    return np.array(seq_list)\n",
    "\n",
    "def load_label_seq(seq_file):\n",
    "    label_list = []\n",
    "    seq = ''\n",
    "    with open(seq_file, 'r') as fp:\n",
    "        for line in fp:\n",
    "            if line[0] == '>':\n",
    "                name = line[1:-1]\n",
    "                posi_label = name.split(';')[-1]\n",
    "                label = posi_label.split(':')[-1]\n",
    "                label_list.append(int(label))\n",
    "    return np.array(label_list)\n",
    "\n",
    "def get_RNA_seq_concolutional_array(seq, motif_len = 10):\n",
    "    seq = seq.replace('U', 'T')\n",
    "#     alpha = 'acgu'\n",
    "    alpha = 'ACGT'\n",
    "#     print seq\n",
    "    half_len = motif_len/2\n",
    "    row = (len(seq) + half_len *2 )\n",
    "    new_array = np.zeros((row, 4))\n",
    "\n",
    "#     First and last half_len values set to 0.25\n",
    "\n",
    "    for i in range(half_len):\n",
    "        new_array[i] = np.array([0.25]*4)\n",
    "    \n",
    "    for i in range(row-half_len, row):\n",
    "        new_array[i] = np.array([0.25]*4)    \n",
    "\n",
    "        \n",
    "    for i, val in enumerate(seq):\n",
    "#         print i,val\n",
    "        i = i + half_len\n",
    "#         print i,val\n",
    "#         if val not in 'acgu':\n",
    "        if val not in 'ACGT':\n",
    "            new_array[i] = np.array([0.25]*4)\n",
    "            continue\n",
    "        #if val == 'N' or i < motif_len or i > len(seq) - motif_len:\n",
    "        #    new_array[i] = np.array([0.25]*4)\n",
    "        #else:\n",
    "        try:\n",
    "            index = alpha.index(val)\n",
    "            new_array[i][index] = 1\n",
    "        except:\n",
    "            pdb.set_trace()\n",
    "        #data[key] = new_array\n",
    "    return new_array\n",
    "\n",
    "def load_data_file(inputfile, seq = True, onlytest = False):\n",
    "    \"\"\"\n",
    "        Load data matrices from the specified folder.\n",
    "    \"\"\"\n",
    "    \n",
    "    path = os.path.dirname(inputfile)\n",
    "    data = dict()\n",
    "    if seq: \n",
    "        tmp = []\n",
    "        tmp.append(read_seq(inputfile))\n",
    "#         seq_onehot, structure = read_structure(inputfile, path)\n",
    "#         tmp.append(seq_onehot)\n",
    "        data[\"seq\"] = tmp\n",
    "#         data[\"structure\"] = structure\n",
    "    if onlytest:\n",
    "        data[\"Y\"] = []\n",
    "    else:\n",
    "        data[\"Y\"] = load_label_seq(inputfile)\n",
    "        \n",
    "    return data\n",
    "\n",
    "\n",
    "def split_training_validation(classes, validation_size, shuffle = True):\n",
    "    \"\"\"split sampels based on balnace classes\"\"\"\n",
    "    num_samples=len(classes)\n",
    "    classes=np.array(classes)\n",
    "    classes_unique=np.unique(classes)\n",
    "    num_classes=len(classes_unique)\n",
    "    indices=np.arange(num_samples)\n",
    "    #indices_folds=np.zeros([num_samples],dtype=int)\n",
    "    training_indice = []\n",
    "    training_label = []\n",
    "    validation_indice = []\n",
    "    validation_label = []\n",
    "    for cl in classes_unique:\n",
    "        indices_cl=indices[classes==cl]\n",
    "        num_samples_cl=len(indices_cl)\n",
    "\n",
    "        # split this class into k parts\n",
    "        if shuffle:\n",
    "            random.shuffle(indices_cl) # in-place shuffle\n",
    "        \n",
    "        # module and residual\n",
    "        num_samples_each_split=int(num_samples_cl*validation_size)\n",
    "        res=num_samples_cl - num_samples_each_split\n",
    "        \n",
    "        training_indice = training_indice + [val for val in indices_cl[num_samples_each_split:]]\n",
    "        training_label = training_label + [cl] * res\n",
    "        \n",
    "        validation_indice = validation_indice + [val for val in indices_cl[:num_samples_each_split]]\n",
    "        validation_label = validation_label + [cl]*num_samples_each_split\n",
    "\n",
    "    training_index = np.arange(len(training_label))\n",
    "    random.shuffle(training_index)\n",
    "    training_indice = np.array(training_indice)[training_index]\n",
    "    training_label = np.array(training_label)[training_index]\n",
    "    \n",
    "    validation_index = np.arange(len(validation_label))\n",
    "    random.shuffle(validation_index)\n",
    "    validation_indice = np.array(validation_indice)[validation_index]\n",
    "    validation_label = np.array(validation_label)[validation_index]    \n",
    "    \n",
    "            \n",
    "    return training_indice, training_label, validation_indice, validation_label    \n",
    "\n",
    "\n",
    "def preprocess_labels(labels, encoder=None, categorical=True):\n",
    "    if not encoder:\n",
    "        encoder = LabelEncoder()\n",
    "        encoder.fit(labels)\n",
    "    y = encoder.transform(labels).astype(np.int32)\n",
    "    if categorical:\n",
    "        y = np_utils.to_categorical(y)\n",
    "    return y, encoder\n",
    "\n",
    "def calculate_performace(test_num, pred_y,  labels):\n",
    "    tp =0\n",
    "    fp = 0\n",
    "    tn = 0\n",
    "    fn = 0\n",
    "    for index in range(test_num):\n",
    "        if labels[index] ==1:\n",
    "            if labels[index] == pred_y[index]:\n",
    "                tp = tp +1\n",
    "            else:\n",
    "                fn = fn + 1\n",
    "        else:\n",
    "            if labels[index] == pred_y[index]:\n",
    "                tn = tn +1\n",
    "            else:\n",
    "                fp = fp + 1               \n",
    "            \n",
    "    acc = float(tp + tn)/test_num\n",
    "    precision = float(tp)/(tp+ fp)\n",
    "    sensitivity = float(tp)/ (tp+fn)\n",
    "    specificity = float(tn)/(tn + fp)\n",
    "    MCC = float(tp*tn-fp*fn)/(np.sqrt((tp+fp)*(tp+fn)*(tn+fp)*(tn+fn)))\n",
    "    return acc, precision, sensitivity, specificity, MCC \n",
    "\n",
    "\n",
    "def list_files(directory, extension):\n",
    "    return (f for f in listdir(directory) if f.endswith('.' + extension))\n",
    "\n",
    "\n",
    "def list_dir(path):\n",
    "    proteinList=[]\n",
    "    files = os.listdir(path)\n",
    "    for name in files:\n",
    "        proteinList.append(name)\n",
    "    return proteinList\n",
    "\n",
    "\n",
    "def accuracy(test_x, test_y, model):\n",
    "    result = model.predict(test_x)\n",
    "    predicted_class = np.argmax(result, axis=1)\n",
    "    true_class = np.argmax(test_y, axis=1)\n",
    "    num_correct = np.sum(predicted_class == true_class) \n",
    "    accuracy = float(num_correct)/result.shape[0]\n",
    "    return (accuracy * 100)\n",
    "\n",
    "def plot_model_history(model_history):\n",
    "    fig, axs = plt.subplots(1,2,figsize=(15,5))\n",
    "    # summarize history for accuracy\n",
    "    axs[0].plot(range(1,len(model_history.history['acc'])+1),model_history.history['acc'])\n",
    "    axs[0].plot(range(1,len(model_history.history['val_acc'])+1),model_history.history['val_acc'])\n",
    "    axs[0].set_title('Model Accuracy')\n",
    "    axs[0].set_ylabel('Accuracy')\n",
    "    axs[0].set_xlabel('Epoch')\n",
    "    axs[0].set_xticks(np.arange(1,len(model_history.history['acc'])+1),len(model_history.history['acc'])/10)\n",
    "    axs[0].legend(['train', 'val'], loc='best')\n",
    "    # summarize history for loss\n",
    "    axs[1].plot(range(1,len(model_history.history['loss'])+1),model_history.history['loss'])\n",
    "    axs[1].plot(range(1,len(model_history.history['val_loss'])+1),model_history.history['val_loss'])\n",
    "    axs[1].set_title('Model Loss')\n",
    "    axs[1].set_ylabel('Loss')\n",
    "    axs[1].set_xlabel('Epoch')\n",
    "    axs[1].set_xticks(np.arange(1,len(model_history.history['loss'])+1),len(model_history.history['loss'])/10)\n",
    "    axs[1].legend(['train', 'val'], loc='best')\n",
    "    #plt.show()\n",
    "    return plt\n"
   ]
  },
  {
   "cell_type": "code",
   "execution_count": 25,
   "metadata": {
    "collapsed": true
   },
   "outputs": [],
   "source": [
    "def run_network_new(name, training, y, validation, val_y, batch_size=50, nb_epoch=30):\n",
    "    print 'configure cnn network'\n",
    "    \n",
    "    rows=111\n",
    "    cols=4\n",
    "    filters = 16\n",
    "    kernel_size = 10\n",
    "    model = Sequential()\n",
    "\n",
    "    input_shape = Input(shape=(rows,cols))\n",
    "#    tower_1 = Conv1D(filters, kernel_size, strides=1,\n",
    "#                         padding='valid', dilation_rate=1, activation=None,\n",
    "#                         use_bias=True, kernel_initializer='glorot_uniform', bias_initializer='zeros')\n",
    "    tower_1 = Conv1D(16, 10, padding='valid', activation='relu')(input_shape) \n",
    "    \n",
    "    tower_temp = Activation('relu')(tower_1)\n",
    "    pool = MaxPooling1D(pool_size=3, padding='valid')(tower_temp)\n",
    "    lstm = Bidirectional(LSTM(64))(pool)\n",
    "    lstm = Dropout(0.10)(lstm)\n",
    "#     flat = Flatten()(pool)\n",
    "#     out = Dense(200, activation='relu')(flat)\n",
    "    out = Dense(50, activation='relu')(lstm)\n",
    "    out = Dense(2, activation='sigmoid')(out)\n",
    "    model = Model(input_shape, out)\n",
    " \n",
    "\n",
    "    # history = History()\n",
    "    \n",
    "    model.compile(loss=\n",
    "#                   'kullback_leibler_divergence'\n",
    "                  'categorical_crossentropy'\n",
    "#                   , optimizer=(lr=0.0001)\n",
    "                  , optimizer=Adam(lr=0.0001)\n",
    "                  ,metrics=['accuracy'])\n",
    "    \n",
    "    model.summary()\n",
    "    \n",
    "    save_model('model/my_model.h5')\n",
    "    \n",
    "    exit(-1)\n",
    "    \n",
    "    #plot_model(model, to_file='architecture/%s.png'%(name))\n",
    "    \n",
    "    #tensorboard = TensorBoard(log_dir='Graph', histogram_freq=0, write_graph=True, write_images=True)\n",
    "    #pdb.set_trace()\n",
    "    print 'model training'\n",
    "\n",
    "    earlystopper = EarlyStopping(monitor='val_loss', patience=5, verbose=1)\n",
    "\n",
    "    history = model.fit(training, y, batch_size=batch_size, epochs=nb_epoch, verbose=1, validation_data=(validation, val_y)\n",
    "              , callbacks=[history\n",
    "                           ,earlystopper\n",
    "                           #,tensorboard\n",
    "                 ])\n",
    "    \n",
    "#     model.save_weights('model/lstmweights.h5')\n",
    "    \n",
    "    return model, history "
   ]
  },
  {
   "cell_type": "code",
   "execution_count": 26,
   "metadata": {
    "collapsed": true
   },
   "outputs": [],
   "source": [
    "theFileName=\"/mnt/mirror/data/mimtiy/lab/encode/files/pickle/PWM.pickle\"\n",
    "\n",
    "with open(theFileName, 'rb') as handle:\n",
    "        PWM = pickle.load(handle)\n",
    "             \n",
    "keyList=[]\n",
    "for key in PWM:\n",
    "    keyList.append(key)\n",
    "\n",
    "dir_path = \"/mnt/mirror/data/mimtiy/lab/encode/data/proteins/\"\n",
    "proteins = list_dir(dir_path)"
   ]
  },
  {
   "cell_type": "code",
   "execution_count": 27,
   "metadata": {},
   "outputs": [
    {
     "name": "stdout",
     "output_type": "stream",
     "text": [
      "******************************************************\n",
      "# 2  - Protein:  13_PARCLIP_FUS_hg19\n",
      "******************************************************\n"
     ]
    }
   ],
   "source": [
    "# for i in range(len(proteins)):\n",
    "# for i in range(1):\n",
    "i=2\n",
    "protein = proteins[i]\n",
    "print \"******************************************************\"\n",
    "print \"#\", i ,\" - Protein: \", protein\n",
    "print \"******************************************************\"\n",
    "train_path = dir_path + protein + \"/30000/training_sample_0/sequences.fa\"\n",
    "test_path = dir_path + protein + \"/30000/test_sample_0/sequences.fa\"\n"
   ]
  },
  {
   "cell_type": "code",
   "execution_count": 28,
   "metadata": {},
   "outputs": [
    {
     "name": "stdout",
     "output_type": "stream",
     "text": [
      "Training Examples:  (30000,)\n",
      "Test Examples:  (10000,)\n",
      "Train Set Dimensions:  (30000, 111, 4)\n",
      "Test Set Dimensions:  (10000, 111, 4)\n",
      "Training Set Shape:  (24000, 111, 4) (24000,)\n",
      "Validation Set Shape:  (6000, 111, 4) (6000,)\n",
      "Test Set Shape:  (10000, 111, 4) (10000,)\n"
     ]
    }
   ],
   "source": [
    "training_data = load_data_file(train_path)\n",
    "test_data = load_data_file(test_path)\n",
    "\n",
    "train_Y = training_data[\"Y\"]\n",
    "test_label = test_data[\"Y\"]\n",
    "seq_data = training_data[\"seq\"][0]\n",
    "seq_test = test_data[\"seq\"][0]\n",
    "\n",
    "print \"Training Examples: \", train_Y.shape\n",
    "print \"Test Examples: \", test_label.shape\n",
    "print \"Train Set Dimensions: \", seq_data.shape\n",
    "print \"Test Set Dimensions: \", seq_test.shape\n",
    "\n",
    "\n",
    "# Train Test Split\n",
    "training_indice, training_label, validation_indice, validation_label = split_training_validation(train_Y,0.2, False)\n",
    "\n",
    "# if Encode Data\n",
    "# seq_train, seq_test, training_label, test_label = train_test_split(seq_data, train_Y, test_size=0.2, random_state=42)\n",
    "# seq_train, seq_validation, training_label, validation_label = train_test_split(seq_train, training_label, test_size=0.2, random_state=32)\n",
    "\n",
    "seq_train = seq_data[training_indice]\n",
    "seq_validation = seq_data[validation_indice] \n",
    "\n",
    "\n",
    "print \"Training Set Shape: \", seq_train.shape, training_label.shape\n",
    "print \"Validation Set Shape: \", seq_validation.shape, validation_label.shape\n",
    "print \"Test Set Shape: \", seq_test.shape, test_label.shape"
   ]
  },
  {
   "cell_type": "code",
   "execution_count": 29,
   "metadata": {
    "scrolled": true
   },
   "outputs": [
    {
     "name": "stdout",
     "output_type": "stream",
     "text": [
      "-------------------------------------\n",
      "configure cnn network\n"
     ]
    },
    {
     "ename": "AttributeError",
     "evalue": "can't set attribute",
     "output_type": "error",
     "traceback": [
      "\u001b[0;31m---------------------------------------------------------------------------\u001b[0m",
      "\u001b[0;31mAttributeError\u001b[0m                            Traceback (most recent call last)",
      "\u001b[0;32m<ipython-input-29-ecf9e155fad5>\u001b[0m in \u001b[0;36m<module>\u001b[0;34m()\u001b[0m\n\u001b[1;32m     13\u001b[0m \u001b[0;34m\u001b[0m\u001b[0m\n\u001b[1;32m     14\u001b[0m \u001b[0mstart\u001b[0m \u001b[0;34m=\u001b[0m \u001b[0mtime\u001b[0m\u001b[0;34m.\u001b[0m\u001b[0mtime\u001b[0m\u001b[0;34m(\u001b[0m\u001b[0;34m)\u001b[0m\u001b[0;34m\u001b[0m\u001b[0m\n\u001b[0;32m---> 15\u001b[0;31m \u001b[0mmodel\u001b[0m\u001b[0;34m,\u001b[0m \u001b[0mhistory\u001b[0m \u001b[0;34m=\u001b[0m \u001b[0mrun_network_new\u001b[0m\u001b[0;34m(\u001b[0m\u001b[0mname\u001b[0m\u001b[0;34m,\u001b[0m \u001b[0mseq_train\u001b[0m\u001b[0;34m,\u001b[0m \u001b[0my\u001b[0m\u001b[0;34m,\u001b[0m \u001b[0mvalidation\u001b[0m \u001b[0;34m=\u001b[0m \u001b[0mseq_validation\u001b[0m\u001b[0;34m,\u001b[0m\u001b[0mval_y\u001b[0m \u001b[0;34m=\u001b[0m \u001b[0mval_y\u001b[0m\u001b[0;34m,\u001b[0m \u001b[0mbatch_size\u001b[0m\u001b[0;34m=\u001b[0m\u001b[0mbatch_size\u001b[0m\u001b[0;34m,\u001b[0m \u001b[0mnb_epoch\u001b[0m \u001b[0;34m=\u001b[0m \u001b[0mnb_epoch\u001b[0m\u001b[0;34m)\u001b[0m\u001b[0;34m\u001b[0m\u001b[0m\n\u001b[0m\u001b[1;32m     16\u001b[0m \u001b[0mend\u001b[0m \u001b[0;34m=\u001b[0m \u001b[0mtime\u001b[0m\u001b[0;34m.\u001b[0m\u001b[0mtime\u001b[0m\u001b[0;34m(\u001b[0m\u001b[0;34m)\u001b[0m\u001b[0;34m\u001b[0m\u001b[0m\n\u001b[1;32m     17\u001b[0m \u001b[0;34m\u001b[0m\u001b[0m\n",
      "\u001b[0;32m<ipython-input-25-9feaf6ad247a>\u001b[0m in \u001b[0;36mrun_network_new\u001b[0;34m(name, training, y, validation, val_y, batch_size, nb_epoch)\u001b[0m\n\u001b[1;32m     12\u001b[0m \u001b[0;31m#                         padding='valid', dilation_rate=1, activation=None,\u001b[0m\u001b[0;34m\u001b[0m\u001b[0;34m\u001b[0m\u001b[0m\n\u001b[1;32m     13\u001b[0m \u001b[0;31m#                         use_bias=True, kernel_initializer='glorot_uniform', bias_initializer='zeros')\u001b[0m\u001b[0;34m\u001b[0m\u001b[0;34m\u001b[0m\u001b[0m\n\u001b[0;32m---> 14\u001b[0;31m     \u001b[0mtower_1\u001b[0m \u001b[0;34m=\u001b[0m \u001b[0mConv1D\u001b[0m\u001b[0;34m(\u001b[0m\u001b[0;36m16\u001b[0m\u001b[0;34m,\u001b[0m \u001b[0;36m10\u001b[0m\u001b[0;34m,\u001b[0m \u001b[0mpadding\u001b[0m\u001b[0;34m=\u001b[0m\u001b[0;34m'valid'\u001b[0m\u001b[0;34m,\u001b[0m \u001b[0mactivation\u001b[0m\u001b[0;34m=\u001b[0m\u001b[0;34m'relu'\u001b[0m\u001b[0;34m)\u001b[0m\u001b[0;34m(\u001b[0m\u001b[0minput_shape\u001b[0m\u001b[0;34m)\u001b[0m\u001b[0;34m\u001b[0m\u001b[0m\n\u001b[0m\u001b[1;32m     15\u001b[0m \u001b[0;34m\u001b[0m\u001b[0m\n\u001b[1;32m     16\u001b[0m     \u001b[0mtower_temp\u001b[0m \u001b[0;34m=\u001b[0m \u001b[0mActivation\u001b[0m\u001b[0;34m(\u001b[0m\u001b[0;34m'relu'\u001b[0m\u001b[0;34m)\u001b[0m\u001b[0;34m(\u001b[0m\u001b[0mtower_1\u001b[0m\u001b[0;34m)\u001b[0m\u001b[0;34m\u001b[0m\u001b[0m\n",
      "\u001b[0;32m/usr/local/lib/python2.7/dist-packages/keras/engine/topology.pyc\u001b[0m in \u001b[0;36m__call__\u001b[0;34m(self, inputs, **kwargs)\u001b[0m\n\u001b[1;32m    573\u001b[0m                                          '`layer.build(batch_input_shape)`')\n\u001b[1;32m    574\u001b[0m                 \u001b[0;32mif\u001b[0m \u001b[0mlen\u001b[0m\u001b[0;34m(\u001b[0m\u001b[0minput_shapes\u001b[0m\u001b[0;34m)\u001b[0m \u001b[0;34m==\u001b[0m \u001b[0;36m1\u001b[0m\u001b[0;34m:\u001b[0m\u001b[0;34m\u001b[0m\u001b[0m\n\u001b[0;32m--> 575\u001b[0;31m                     \u001b[0mself\u001b[0m\u001b[0;34m.\u001b[0m\u001b[0mbuild\u001b[0m\u001b[0;34m(\u001b[0m\u001b[0minput_shapes\u001b[0m\u001b[0;34m[\u001b[0m\u001b[0;36m0\u001b[0m\u001b[0;34m]\u001b[0m\u001b[0;34m)\u001b[0m\u001b[0;34m\u001b[0m\u001b[0m\n\u001b[0m\u001b[1;32m    576\u001b[0m                 \u001b[0;32melse\u001b[0m\u001b[0;34m:\u001b[0m\u001b[0;34m\u001b[0m\u001b[0m\n\u001b[1;32m    577\u001b[0m                     \u001b[0mself\u001b[0m\u001b[0;34m.\u001b[0m\u001b[0mbuild\u001b[0m\u001b[0;34m(\u001b[0m\u001b[0minput_shapes\u001b[0m\u001b[0;34m)\u001b[0m\u001b[0;34m\u001b[0m\u001b[0m\n",
      "\u001b[0;32m/usr/local/lib/python2.7/dist-packages/keras/layers/convolutional.pyc\u001b[0m in \u001b[0;36mbuild\u001b[0;34m(self, input_shape)\u001b[0m\n\u001b[1;32m    132\u001b[0m                                       \u001b[0mname\u001b[0m\u001b[0;34m=\u001b[0m\u001b[0;34m'kernel'\u001b[0m\u001b[0;34m,\u001b[0m\u001b[0;34m\u001b[0m\u001b[0m\n\u001b[1;32m    133\u001b[0m                                       \u001b[0mregularizer\u001b[0m\u001b[0;34m=\u001b[0m\u001b[0mself\u001b[0m\u001b[0;34m.\u001b[0m\u001b[0mkernel_regularizer\u001b[0m\u001b[0;34m,\u001b[0m\u001b[0;34m\u001b[0m\u001b[0m\n\u001b[0;32m--> 134\u001b[0;31m                                       constraint=self.kernel_constraint)\n\u001b[0m\u001b[1;32m    135\u001b[0m         \u001b[0;32mif\u001b[0m \u001b[0mself\u001b[0m\u001b[0;34m.\u001b[0m\u001b[0muse_bias\u001b[0m\u001b[0;34m:\u001b[0m\u001b[0;34m\u001b[0m\u001b[0m\n\u001b[1;32m    136\u001b[0m             self.bias = self.add_weight(shape=(self.filters,),\n",
      "\u001b[0;32m/usr/local/lib/python2.7/dist-packages/keras/legacy/interfaces.pyc\u001b[0m in \u001b[0;36mwrapper\u001b[0;34m(*args, **kwargs)\u001b[0m\n\u001b[1;32m     85\u001b[0m                 warnings.warn('Update your `' + object_name +\n\u001b[1;32m     86\u001b[0m                               '` call to the Keras 2 API: ' + signature, stacklevel=2)\n\u001b[0;32m---> 87\u001b[0;31m             \u001b[0;32mreturn\u001b[0m \u001b[0mfunc\u001b[0m\u001b[0;34m(\u001b[0m\u001b[0;34m*\u001b[0m\u001b[0margs\u001b[0m\u001b[0;34m,\u001b[0m \u001b[0;34m**\u001b[0m\u001b[0mkwargs\u001b[0m\u001b[0;34m)\u001b[0m\u001b[0;34m\u001b[0m\u001b[0m\n\u001b[0m\u001b[1;32m     88\u001b[0m         \u001b[0mwrapper\u001b[0m\u001b[0;34m.\u001b[0m\u001b[0m_original_function\u001b[0m \u001b[0;34m=\u001b[0m \u001b[0mfunc\u001b[0m\u001b[0;34m\u001b[0m\u001b[0m\n\u001b[1;32m     89\u001b[0m         \u001b[0;32mreturn\u001b[0m \u001b[0mwrapper\u001b[0m\u001b[0;34m\u001b[0m\u001b[0m\n",
      "\u001b[0;32m/usr/local/lib/python2.7/dist-packages/keras/engine/topology.pyc\u001b[0m in \u001b[0;36madd_weight\u001b[0;34m(self, name, shape, dtype, initializer, regularizer, trainable, constraint)\u001b[0m\n\u001b[1;32m    397\u001b[0m                             \u001b[0mdtype\u001b[0m\u001b[0;34m=\u001b[0m\u001b[0mdtype\u001b[0m\u001b[0;34m,\u001b[0m\u001b[0;34m\u001b[0m\u001b[0m\n\u001b[1;32m    398\u001b[0m                             \u001b[0mname\u001b[0m\u001b[0;34m=\u001b[0m\u001b[0mname\u001b[0m\u001b[0;34m,\u001b[0m\u001b[0;34m\u001b[0m\u001b[0m\n\u001b[0;32m--> 399\u001b[0;31m                             constraint=constraint)\n\u001b[0m\u001b[1;32m    400\u001b[0m         \u001b[0;32mif\u001b[0m \u001b[0mregularizer\u001b[0m \u001b[0;32mis\u001b[0m \u001b[0;32mnot\u001b[0m \u001b[0mNone\u001b[0m\u001b[0;34m:\u001b[0m\u001b[0;34m\u001b[0m\u001b[0m\n\u001b[1;32m    401\u001b[0m             \u001b[0mself\u001b[0m\u001b[0;34m.\u001b[0m\u001b[0madd_loss\u001b[0m\u001b[0;34m(\u001b[0m\u001b[0mregularizer\u001b[0m\u001b[0;34m(\u001b[0m\u001b[0mweight\u001b[0m\u001b[0;34m)\u001b[0m\u001b[0;34m)\u001b[0m\u001b[0;34m\u001b[0m\u001b[0m\n",
      "\u001b[0;32m/usr/local/lib/python2.7/dist-packages/keras/backend/tensorflow_backend.pyc\u001b[0m in \u001b[0;36mvariable\u001b[0;34m(value, dtype, name, constraint)\u001b[0m\n\u001b[1;32m    321\u001b[0m     \u001b[0mv\u001b[0m\u001b[0;34m.\u001b[0m\u001b[0m_uses_learning_phase\u001b[0m \u001b[0;34m=\u001b[0m \u001b[0mFalse\u001b[0m\u001b[0;34m\u001b[0m\u001b[0m\n\u001b[1;32m    322\u001b[0m     \u001b[0;31m# TODO: move to `tf.get_variable` when supported in public release.\u001b[0m\u001b[0;34m\u001b[0m\u001b[0;34m\u001b[0m\u001b[0m\n\u001b[0;32m--> 323\u001b[0;31m     \u001b[0mv\u001b[0m\u001b[0;34m.\u001b[0m\u001b[0mconstraint\u001b[0m \u001b[0;34m=\u001b[0m \u001b[0mconstraint\u001b[0m\u001b[0;34m\u001b[0m\u001b[0m\n\u001b[0m\u001b[1;32m    324\u001b[0m     \u001b[0;32mreturn\u001b[0m \u001b[0mv\u001b[0m\u001b[0;34m\u001b[0m\u001b[0m\n\u001b[1;32m    325\u001b[0m \u001b[0;34m\u001b[0m\u001b[0m\n",
      "\u001b[0;31mAttributeError\u001b[0m: can't set attribute"
     ]
    }
   ],
   "source": [
    "name = 'cnnFILTERSLstm'\n",
    "batch_size= 50 \n",
    "nb_epoch = 50\n",
    "seq_data = []\n",
    "\n",
    "y, encoder = preprocess_labels(training_label)\n",
    "val_y, encoder = preprocess_labels(validation_label, encoder = encoder) \n",
    "test_y, encoder = preprocess_labels(test_label)\n",
    "\n",
    "training_data.clear()\n",
    "\n",
    "print \"-------------------------------------\"\n",
    "\n",
    "start = time.time()\n",
    "model, history = run_network_new(name, seq_train, y, validation = seq_validation,val_y = val_y, batch_size=batch_size, nb_epoch = nb_epoch)\n",
    "end = time.time()\n",
    "\n",
    "print \"Model took %0.2f seconds to train\"%(end - start)\n",
    "\n",
    "#print(history.history.keys())\n",
    "#print(history.history['val_acc'])\n",
    "\n",
    "#plot_model_history(history).savefig(\"../figures/deepL/%s.png\"%(protein))"
   ]
  },
  {
   "cell_type": "code",
   "execution_count": null,
   "metadata": {},
   "outputs": [],
   "source": [
    "# Evaluate the trained model on the test set!\n",
    "\n",
    "print \"Accuracy of Test Set:\", model.evaluate(seq_test,test_y, verbose=1)[1]\n",
    "\n",
    "\n",
    "predictions = model.predict(seq_test, verbose=0)\n",
    "# print predictions\n",
    "auc = roc_auc_score(test_y, predictions)\n",
    "print \"Test AUC: \", auc\n",
    "\n",
    "print \"******************************************************\"\n",
    "print \"#\", i ,\" - Protein: \", protein\n",
    "print \"******************************************************\"\n",
    "train_path = dir_path + protein + \"/30000/training_sample_0/sequences.fa\"\n",
    "test_path = dir_path + protein + \"/30000/test_sample_0/sequences.fa\"\n",
    "\n",
    "model.save_weights('model/lstmweights.h5')# print load_data_file(train_path)['Y'].shape"
   ]
  },
  {
   "cell_type": "code",
   "execution_count": null,
   "metadata": {},
   "outputs": [],
   "source": [
    "model = Model()\n",
    "model.load_weights('model/lstmweights_2.h5')\n",
    "\n",
    "# model.save_weights('model/lstmweightsFUS.h5')\n",
    "weights=[]\n",
    "for layer in model.layers:\n",
    "    weights.append(layer.get_weights())"
   ]
  },
  {
   "cell_type": "code",
   "execution_count": 35,
   "metadata": {
    "collapsed": true
   },
   "outputs": [],
   "source": [
    "# with open('pickle/modelweights_24.pickle', 'wb') as handle:\n",
    "#     pickle.dump(weights, handle, protocol=pickle.HIGHEST_PROTOCOL)\n",
    "\n",
    "# with open(theFileName, 'rb') as handle:\n",
    "#         PWM = pickle.load(handle)\n",
    "        \n",
    "        \n",
    "with open('pickle/modelweights_25.pickle', 'rb') as handle:\n",
    "    weights = pickle.load(handle)"
   ]
  },
  {
   "cell_type": "code",
   "execution_count": 36,
   "metadata": {},
   "outputs": [],
   "source": [
    "filter_weights = weights[1][0].T\n",
    "activations = weights[1][1]\n",
    "# print max(activations)"
   ]
  },
  {
   "cell_type": "code",
   "execution_count": 95,
   "metadata": {},
   "outputs": [
    {
     "name": "stdout",
     "output_type": "stream",
     "text": [
      "--------- 8 ---------\n",
      "Activation  0.0018860096\n",
      "ID 25_QKI_8\n",
      "BF Human\n",
      "XX\n",
      "P0 A C G U \n",
      "0 0.56 0.28 0.16 0.00 S\n",
      "1 0.48 0.44 0.00 0.08 S\n",
      "2 0.00 0.38 0.34 0.28 S\n",
      "3 0.50 0.18 0.32 0.00 S\n",
      "4 0.51 0.00 0.08 0.41 S\n",
      "5 0.45 0.15 0.00 0.40 S\n",
      "6 0.24 0.15 0.00 0.61 S\n",
      "7 0.21 0.28 0.00 0.50 S\n",
      "8 0.40 0.31 0.29 0.00 S\n",
      "9 0.50 0.30 0.20 0.00 S\n",
      "XX\n"
     ]
    }
   ],
   "source": [
    "i=8\n",
    "\n",
    "print \"---------\", i , \"---------\"\n",
    "print \"Activation \", activations[i]\n",
    "a = filter_weights[i][0]\n",
    "c = filter_weights[i][1]\n",
    "g = filter_weights[i][2]\n",
    "u = filter_weights[i][3]\n",
    "\n",
    "#     for j,nuc in enumerate(pos):\n",
    "#         print j,  nuc\n",
    "\n",
    "print \"ID 25_QKI_%d\"%i\n",
    "print \"BF Human\"\n",
    "print \"XX\"\n",
    "print \"P0 A C G U \"\n",
    "for i in range(10):\n",
    "    minI = abs(min(a[i],c[i],g[i],u[i]))\n",
    "    a[i]= a[i]+minI\n",
    "    c[i]= c[i]+minI\n",
    "    g[i]= g[i]+minI\n",
    "    u[i]= u[i]+minI\n",
    "    sumI = a[i]+c[i]+g[i]+u[i]\n",
    "    print i, \"%.2f\"%((a[i])/sumI), \"%.2f\" %((c[i])/sumI),\"%.2f\"%((g[i])/sumI), \"%.2f\"%((u[i])/sumI), 'S'\n",
    "print \"XX\""
   ]
  },
  {
   "cell_type": "code",
   "execution_count": 101,
   "metadata": {},
   "outputs": [
    {
     "ename": "TypeError",
     "evalue": "function takes exactly 1 argument (2 given)",
     "output_type": "error",
     "traceback": [
      "\u001b[0;31m---------------------------------------------------------------------------\u001b[0m",
      "\u001b[0;31mTypeError\u001b[0m                                 Traceback (most recent call last)",
      "\u001b[0;32m<ipython-input-101-a0f89b267776>\u001b[0m in \u001b[0;36m<module>\u001b[0;34m()\u001b[0m\n\u001b[1;32m      1\u001b[0m \u001b[0mfilename\u001b[0m \u001b[0;34m=\u001b[0m \u001b[0;34m\"filters/25_QKI_%d.dat\"\u001b[0m\u001b[0;34m%\u001b[0m\u001b[0;34m(\u001b[0m\u001b[0mi\u001b[0m\u001b[0;34m)\u001b[0m\u001b[0;34m\u001b[0m\u001b[0m\n\u001b[1;32m      2\u001b[0m \u001b[0;32mwith\u001b[0m \u001b[0mopen\u001b[0m\u001b[0;34m(\u001b[0m\u001b[0mfilename\u001b[0m\u001b[0;34m,\u001b[0m\u001b[0;34m\"w\"\u001b[0m\u001b[0;34m)\u001b[0m \u001b[0;32mas\u001b[0m \u001b[0mfile\u001b[0m\u001b[0;34m:\u001b[0m\u001b[0;34m\u001b[0m\u001b[0m\n\u001b[0;32m----> 3\u001b[0;31m     \u001b[0mfile\u001b[0m\u001b[0;34m.\u001b[0m\u001b[0mwrite\u001b[0m\u001b[0;34m(\u001b[0m\u001b[0;34m\"ID 25_QKI_%d\"\u001b[0m\u001b[0;34m%\u001b[0m\u001b[0mi\u001b[0m\u001b[0;34m,\u001b[0m \u001b[0;34m\"\\n\"\u001b[0m\u001b[0;34m)\u001b[0m\u001b[0;34m\u001b[0m\u001b[0m\n\u001b[0m\u001b[1;32m      4\u001b[0m     \u001b[0mfile\u001b[0m\u001b[0;34m.\u001b[0m\u001b[0mwrite\u001b[0m\u001b[0;34m(\u001b[0m\u001b[0;34m\"BF Human\"\u001b[0m\u001b[0;34m)\u001b[0m\u001b[0;34m\u001b[0m\u001b[0m\n\u001b[1;32m      5\u001b[0m     \u001b[0mfile\u001b[0m\u001b[0;34m.\u001b[0m\u001b[0mwrite\u001b[0m\u001b[0;34m(\u001b[0m\u001b[0;34m\"XX\"\u001b[0m\u001b[0;34m)\u001b[0m\u001b[0;34m\u001b[0m\u001b[0m\n",
      "\u001b[0;31mTypeError\u001b[0m: function takes exactly 1 argument (2 given)"
     ]
    }
   ],
   "source": [
    "filename = \"filters/25_QKI_%d.dat\"%(i)\n",
    "with open(filename,\"w\") as file:\n",
    "    file.write(\"ID 25_QKI_%d \\n\"%i)\n",
    "    file.write(\"BF Human \\n\")\n",
    "    file.write(\"XX \\n\")\n",
    "    file.write(\"P0 A C G U  \\n\")\n",
    "# for i in range(10):\n",
    "#     minI = abs(min(a[i],c[i],g[i],u[i]))\n",
    "#     a[i]= a[i]+minI\n",
    "#     c[i]= c[i]+minI\n",
    "#     g[i]= g[i]+minI\n",
    "#     u[i]= u[i]+minI\n",
    "#     sumI = a[i]+c[i]+g[i]+u[i]\n",
    "#     print i, \"%.2f\"%((a[i])/sumI), \"%.2f\" %((c[i])/sumI),\"%.2f\"%((g[i])/sumI), \"%.2f\"%((u[i])/sumI), 'S'\n",
    "# print \"XX\""
   ]
  },
  {
   "cell_type": "code",
   "execution_count": 91,
   "metadata": {},
   "outputs": [
    {
     "name": "stdout",
     "output_type": "stream",
     "text": [
      "P0 A C G U \n",
      " 0 -0.12 0.10 -0.10 -0.14\n",
      " 1 0.15 0.09 0.13 -0.10\n",
      " 2 0.12 0.13 0.14 0.08\n",
      " 3 0.08 0.07 0.05 -0.06\n",
      " 4 -0.12 -0.05 0.08 -0.09\n",
      " 5 -0.07 0.07 -0.15 -0.07\n",
      " 6 -0.12 -0.00 -0.10 0.01\n",
      " 7 -0.14 0.10 0.09 -0.03\n",
      " 8 -0.12 0.15 0.11 -0.07\n",
      " 9 0.03 0.18 -0.06 0.05\n"
     ]
    }
   ],
   "source": [
    "# print \"ID 24_PWM\"\n",
    "# print \"BF Human\"\n",
    "print \"P0 A C G U \"\n",
    "for i in range(10):\n",
    "    print \"%2d\" %i, \"%.2f\" % a[i], \"%.2f\" % c[i], \"%.2f\" % g[i], \"%.2f\" % u[i]"
   ]
  },
  {
   "cell_type": "code",
   "execution_count": 92,
   "metadata": {},
   "outputs": [
    {
     "name": "stdout",
     "output_type": "stream",
     "text": [
      "P0 A C G U \n",
      "0 0.06 0.80 0.14 0.00 S\n",
      "1 0.38 0.29 0.34 0.00 S\n",
      "2 0.26 0.27 0.28 0.20 S\n",
      "3 0.38 0.33 0.28 0.00 S\n",
      "4 0.00 0.24 0.67 0.09 S\n",
      "5 0.21 0.58 0.00 0.21 S\n",
      "6 0.00 0.45 0.07 0.48 S\n",
      "7 0.00 0.42 0.40 0.18 S\n",
      "8 0.00 0.50 0.42 0.09 S\n",
      "9 0.20 0.55 0.00 0.25 S\n",
      "XX\n"
     ]
    }
   ],
   "source": []
  },
  {
   "cell_type": "code",
   "execution_count": 218,
   "metadata": {},
   "outputs": [
    {
     "data": {
      "image/png": "[encoded data removed]",
      "text/plain": [
       "<Figure size 432x288 with 16 Axes>"
      ]
     },
     "metadata": {},
     "output_type": "display_data"
    }
   ],
   "source": [
    "# x1w = weights[1][:,:,0,:]\n",
    "for i in range(1,17):\n",
    "    plt.subplot(10,4,i)\n",
    "# plt.imshow(x1w[:,:,i],interpolation=\"nearest\",cmap=\"gray\")\n",
    "plt.show()"
   ]
  },
  {
   "cell_type": "code",
   "execution_count": 228,
   "metadata": {},
   "outputs": [
    {
     "data": {
      "image/png": "[encoded data removed]",
      "text/plain": [
       "<Figure size 432x288 with 16 Axes>"
      ]
     },
     "metadata": {},
     "output_type": "display_data"
    }
   ],
   "source": [
    "for i in range(0,16):\n",
    "    plt.subplot(10,4,i+1)\n",
    "#     print np.array(weights[1][0])[:,:,i]\n",
    "    plt.imshow(np.array(weights[1][0])[:,:,i],interpolation=\"nearest\",cmap=\"gray\")\n",
    "    \n",
    "plt.show()"
   ]
  },
  {
   "cell_type": "code",
   "execution_count": 233,
   "metadata": {},
   "outputs": [
    {
     "name": "stdout",
     "output_type": "stream",
     "text": [
      "[[ 0.00141489 -0.11697848  0.31257093  0.04087709]\n",
      " [ 0.04438472  0.08305717 -0.11693592  0.10885458]\n",
      " [ 0.05820159  0.0446673  -0.03962779  0.03805695]\n",
      " [-0.045448   -0.04228015  0.21114269 -0.09852603]\n",
      " [ 0.01926398  0.079509   -0.07716287  0.12021385]\n",
      " [ 0.07644994  0.11107653 -0.04733371  0.03171724]\n",
      " [ 0.06850904 -0.12428112  0.33039942 -0.100008  ]\n",
      " [-0.07706436  0.03385878  0.2637787   0.05484208]\n",
      " [ 0.04840847 -0.07719407  0.26275992  0.00461469]\n",
      " [ 0.1688163  -0.03554337 -0.18194543  0.08561859]]\n"
     ]
    }
   ],
   "source": [
    "array = np.array(weights[1][0])[:,:,0]\n",
    "print array"
   ]
  },
  {
   "cell_type": "code",
   "execution_count": 244,
   "metadata": {},
   "outputs": [
    {
     "data": {
      "image/png": "[encoded data removed]",
      "text/plain": [
       "<Figure size 432x288 with 1 Axes>"
      ]
     },
     "metadata": {},
     "output_type": "display_data"
    }
   ],
   "source": [
    "import matplotlib.pyplot as plt\n",
    "import numpy as np\n",
    "\n",
    "\n",
    "# Display matrix\n",
    "# plt.subplot(10,4,25)\n",
    "plt.title(\"A\")\n",
    "plt.imshow(array.T, interpolation=\"nearest\",cmap=\"gray\")\n",
    "plt.show()"
   ]
  },
  {
   "cell_type": "code",
   "execution_count": 250,
   "metadata": {},
   "outputs": [
    {
     "data": {
      "image/png": "[encoded data removed]",
      "text/plain": [
       "<Figure size 432x288 with 1 Axes>"
      ]
     },
     "metadata": {},
     "output_type": "display_data"
    }
   ],
   "source": [
    "import numpy as np\n",
    "import matplotlib\n",
    "import matplotlib.pyplot as plt\n",
    "# sphinx_gallery_thumbnail_number = 2\n",
    "\n",
    "vegetables = [\"A\",\"C\",\"G\",\"U\"]\n",
    "farmers = [\"0\",\"1\",\"2\",\"3\",\"4\",\"5\",\"6\",\"7\",\"8\",\"9\"]\n",
    "\n",
    "harvest = np.array(weights[1][0])[:,:,0].T\n",
    "\n",
    "fig, ax = plt.subplots()\n",
    "im = ax.imshow(harvest,interpolation=\"nearest\",cmap=\"gray\")\n",
    "\n",
    "# We want to show all ticks...\n",
    "# ax.set_xticks(np.arange(len(farmers)))\n",
    "ax.set_yticks(np.arange(len(vegetables)))\n",
    "# ... and label them with the respective list entries\n",
    "# ax.set_xticklabels(farmers)\n",
    "ax.set_yticklabels(vegetables)\n",
    "\n",
    "# Rotate the tick labels and set their alignment.\n",
    "# plt.setp(ax.get_xticklabels(), rotation=45, ha=\"right\",\n",
    "#          rotation_mode=\"anchor\")\n",
    "\n",
    "# Loop over data dimensions and create text annotations.\n",
    "# for i in range(len(vegetables)):\n",
    "#     for j in range(len(farmers)):\n",
    "#         text = ax.text(j, i, harvest[i, j],\n",
    "#                        ha=\"center\", va=\"center\", color=\"w\")\n",
    "\n",
    "ax.set_title(\"...\")\n",
    "fig.tight_layout()\n",
    "plt.show()"
   ]
  },
  {
   "cell_type": "code",
   "execution_count": null,
   "metadata": {
    "collapsed": true
   },
   "outputs": [],
   "source": []
  }
 ],
 "metadata": {
  "kernelspec": {
   "display_name": "Python 2",
   "language": "python",
   "name": "python2"
  },
  "language_info": {
   "codemirror_mode": {
    "name": "ipython",
    "version": 2
   },
   "file_extension": ".py",
   "mimetype": "text/x-python",
   "name": "python",
   "nbconvert_exporter": "python",
   "pygments_lexer": "ipython2",
   "version": "2.7.12"
  }
 },
 "nbformat": 4,
 "nbformat_minor": 2
}
